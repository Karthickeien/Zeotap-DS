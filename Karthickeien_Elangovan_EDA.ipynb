{
 "cells": [
  {
   "cell_type": "code",
   "execution_count": 32,
   "id": "b668fe4e-8cf1-40b0-9b9d-ef3fd256fdc5",
   "metadata": {},
   "outputs": [],
   "source": [
    "import pandas as pd\n",
    "import numpy as np\n",
    "from datetime import datetime"
   ]
  },
  {
   "cell_type": "code",
   "execution_count": 2,
   "id": "1d892e3b-7b3f-433d-9bbb-e6aa3b80c7d1",
   "metadata": {},
   "outputs": [],
   "source": [
    "customers_df = pd.read_csv('Customers.csv')\n",
    "products_df = pd.read_csv('Products.csv')\n",
    "transactions_df = pd.read_csv('Transactions.csv')"
   ]
  },
  {
   "cell_type": "code",
   "execution_count": 25,
   "id": "f8fe5935-4e3a-49a1-89c8-33e10eec611b",
   "metadata": {},
   "outputs": [],
   "source": [
    "def clean_data():\n",
    "    # Convert date columns to datetime, handling ISO and mixed formats\n",
    "    customers_df['SignupDate'] = pd.to_datetime(customers_df['SignupDate'], dayfirst=True, errors='coerce')\n",
    "    \n",
    "    # Handle date-time formats for Transactions\n",
    "    transactions_df['TransactionDate'] = pd.to_datetime(transactions_df['TransactionDate'], dayfirst=True, errors='coerce')\n",
    "    \n",
    "    # Remove any rows with missing or invalid dates\n",
    "    customers_df.dropna(subset=['SignupDate'], inplace=True)\n",
    "    transactions_df.dropna(subset=['TransactionDate'], inplace=True)\n",
    "    \n",
    "    # Remove rows with missing values in other columns\n",
    "    products_df.dropna(inplace=True)\n"
   ]
  },
  {
   "cell_type": "code",
   "execution_count": 26,
   "id": "6c7f2794-0f75-4c47-a0b9-06ccf13a89fd",
   "metadata": {},
   "outputs": [],
   "source": [
    "def analyze_customer_distribution():\n",
    "    # Analyze customer distribution by region\n",
    "    region_distribution = customers_df['Region'].value_counts()\n",
    "    \n",
    "    # Calculate customer signup trends\n",
    "    customers_df['SignupMonth'] = customers_df['SignupDate'].dt.to_period('M')\n",
    "    signup_trends = customers_df['SignupMonth'].value_counts().sort_index()\n",
    "    \n",
    "    return region_distribution, signup_trends"
   ]
  },
  {
   "cell_type": "code",
   "execution_count": 27,
   "id": "d1a56360-e1f4-4b7f-adab-22e4e6e458c1",
   "metadata": {},
   "outputs": [],
   "source": [
    "def analyze_product_performance():\n",
    "    # Merge transactions with products\n",
    "    product_sales = pd.merge(transactions_df, products_df, on='ProductID')\n",
    "    category_revenue = product_sales.groupby('Category')['TotalValue'].sum().sort_values(ascending=False)\n",
    "    category_avg_order = product_sales.groupby('Category')['TotalValue'].mean()\n",
    "    top_products = product_sales.groupby('ProductName')['Quantity'].sum().sort_values(ascending=False)\n",
    "    return category_revenue, category_avg_order, top_products"
   ]
  },
  {
   "cell_type": "code",
   "execution_count": 28,
   "id": "b5d27015-c9dd-416f-bf73-ed0c2a38fbbf",
   "metadata": {},
   "outputs": [],
   "source": [
    "def analyze_customer_behavior():\n",
    "    customer_transactions = pd.merge(transactions_df, customers_df, on='CustomerID')\n",
    "    region_avg_purchase = customer_transactions.groupby('Region')['TotalValue'].mean()\n",
    "    region_frequency = customer_transactions.groupby('Region').size()\n",
    "    customer_value = customer_transactions.groupby('CustomerID')['TotalValue'].sum().sort_values(ascending=False)\n",
    "    return region_avg_purchase, region_frequency, customer_value"
   ]
  },
  {
   "cell_type": "code",
   "execution_count": 29,
   "id": "9cf87338-3395-45f2-9b34-d2ac0ace738d",
   "metadata": {},
   "outputs": [],
   "source": [
    "def analyze_temporal_patterns():\n",
    "    # Add temporal features\n",
    "    transactions_df['Hour'] = transactions_df['TransactionDate'].dt.hour\n",
    "    transactions_df['DayOfWeek'] = transactions_df['TransactionDate'].dt.day_name()\n",
    "    transactions_df['Month'] = transactions_df['TransactionDate'].dt.month\n",
    "    \n",
    "    hourly_sales = transactions_df.groupby('Hour')['TotalValue'].sum()\n",
    "    daily_sales = transactions_df.groupby('DayOfWeek')['TotalValue'].sum()\n",
    "    monthly_sales = transactions_df.groupby('Month')['TotalValue'].sum()\n",
    "    return hourly_sales, daily_sales, monthly_sales"
   ]
  },
  {
   "cell_type": "code",
   "execution_count": 30,
   "id": "23075f11-4766-466a-9369-c8c78dd69740",
   "metadata": {},
   "outputs": [],
   "source": [
    "clean_data()\n",
    "region_dist, signup_trends = analyze_customer_distribution()\n",
    "cat_revenue, cat_avg_order, top_products = analyze_product_performance()\n",
    "region_avg_purchase, region_frequency, customer_value = analyze_customer_behavior()\n",
    "hourly_sales, daily_sales, monthly_sales = analyze_temporal_patterns()\n"
   ]
  },
  {
   "cell_type": "code",
   "execution_count": 31,
   "id": "5225cbc3-f26d-4c6c-83b9-cbff2be55873",
   "metadata": {},
   "outputs": [
    {
     "name": "stdout",
     "output_type": "stream",
     "text": [
      "Key Business Insights:\n",
      "\n",
      "1. Customer Distribution:\n",
      "Region\n",
      "South America    25\n",
      "North America    20\n",
      "Europe           17\n",
      "Asia             17\n",
      "Name: count, dtype: int64\n",
      "\n",
      "2. Top Product Categories by Revenue:\n",
      "Category\n",
      "Books          192147.47\n",
      "Electronics    180783.50\n",
      "Clothing       166170.66\n",
      "Home Decor     150893.93\n",
      "Name: TotalValue, dtype: float64\n",
      "\n",
      "3. Average Purchase Value by Region:\n",
      "Region\n",
      "Asia             771.736190\n",
      "Europe           681.019518\n",
      "North America    681.350185\n",
      "South America    715.332800\n",
      "Name: TotalValue, dtype: float64\n",
      "\n",
      "4. Top Selling Products:\n",
      "ProductName\n",
      "ActiveWear Smartwatch    100\n",
      "SoundWave Headphones      97\n",
      "HomeSense Desk Lamp       81\n",
      "ActiveWear Rug            79\n",
      "SoundWave Cookbook        78\n",
      "Name: Quantity, dtype: int64\n",
      "\n",
      "5. Daily Sales Pattern:\n",
      "DayOfWeek\n",
      "Friday        87032.09\n",
      "Monday       101984.33\n",
      "Saturday      81399.74\n",
      "Sunday        92605.93\n",
      "Thursday      99202.71\n",
      "Tuesday      108567.61\n",
      "Wednesday    119203.15\n",
      "Name: TotalValue, dtype: float64\n"
     ]
    }
   ],
   "source": [
    "print(\"Key Business Insights:\\n\")\n",
    "\n",
    "print(\"1. Customer Distribution:\")\n",
    "print(region_dist)\n",
    "print(\"\\n2. Top Product Categories by Revenue:\")\n",
    "print(cat_revenue)\n",
    "print(\"\\n3. Average Purchase Value by Region:\")\n",
    "print(region_avg_purchase)\n",
    "print(\"\\n4. Top Selling Products:\")\n",
    "print(top_products.head())\n",
    "print(\"\\n5. Daily Sales Pattern:\")\n",
    "print(daily_sales)"
   ]
  },
  {
   "cell_type": "code",
   "execution_count": null,
   "id": "ce3b8735-90ba-4dcb-a64c-a1745445ad27",
   "metadata": {},
   "outputs": [],
   "source": []
  },
  {
   "cell_type": "code",
   "execution_count": null,
   "id": "d265afa3-5235-4bb8-b2ba-d8bf8f045f80",
   "metadata": {},
   "outputs": [],
   "source": []
  },
  {
   "cell_type": "code",
   "execution_count": null,
   "id": "dbe6b5ad-6c84-427f-b9b0-7f3b9be3b1b7",
   "metadata": {},
   "outputs": [],
   "source": []
  }
 ],
 "metadata": {
  "kernelspec": {
   "display_name": "Python 3 (ipykernel)",
   "language": "python",
   "name": "python3"
  },
  "language_info": {
   "codemirror_mode": {
    "name": "ipython",
    "version": 3
   },
   "file_extension": ".py",
   "mimetype": "text/x-python",
   "name": "python",
   "nbconvert_exporter": "python",
   "pygments_lexer": "ipython3",
   "version": "3.11.11"
  }
 },
 "nbformat": 4,
 "nbformat_minor": 5
}
